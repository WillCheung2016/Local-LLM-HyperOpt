{
 "cells": [
  {
   "cell_type": "code",
   "execution_count": 7,
   "metadata": {},
   "outputs": [],
   "source": [
    "import os\n",
    "import pickle\n",
    "import numpy as np\n",
    "import matplotlib.pyplot as plt"
   ]
  },
  {
   "cell_type": "code",
   "execution_count": 9,
   "metadata": {},
   "outputs": [],
   "source": [
    "def load_results(load_path):\n",
    "    print(\"Loading results from\", load_path)\n",
    "    trajectory_path = os.path.join(load_path, \"trajectories.pkl\")\n",
    "    losses_path = os.path.join(load_path, \"losses.pkl\")\n",
    "    messages_path = os.path.join(load_path, \"messages.pkl\")\n",
    "    with open(trajectory_path, \"rb\") as f:\n",
    "        trajectories = pickle.load(f)\n",
    "    with open(losses_path, \"rb\") as f:\n",
    "        losses = pickle.load(f)\n",
    "    with open(messages_path, \"rb\") as f:\n",
    "        messages = pickle.load(f)\n",
    "    print(\"successfully loaded\")\n",
    "    for t, results in losses.items():\n",
    "        results = np.array(results)\n",
    "        assert results.shape[0] == 3\n",
    "        min_losses = np.min(results, axis=1)\n",
    "        print(f\"t={t}, min_losses={min_losses}\")\n",
    "    return trajectories, losses, messages"
   ]
  },
  {
   "cell_type": "code",
   "execution_count": 11,
   "metadata": {},
   "outputs": [
    {
     "name": "stdout",
     "output_type": "stream",
     "text": [
      "Loading results from gpt4_prompt2\n",
      "successfully loaded\n",
      "t=rosenbrock, min_losses=[0. 1. 0.]\n",
      "t=branin, min_losses=[1.9431494  3.91125913 0.49791071]\n",
      "t=himmelblau, min_losses=[8.125 8.125 8.125]\n",
      "t=ackley, min_losses=[0. 0. 0.]\n",
      "t=quadratic2d, min_losses=[ 1.445  0.365 28.145]\n",
      "t=quadratic2d_10, min_losses=[51.4475     51.14046875  0.6475    ]\n",
      "t=shifted_rosenbrock, min_losses=[  0.528301   163.859581    15.36746506]\n",
      "t=shifted_branin, min_losses=[3.25633331 5.58170296 9.89968188]\n",
      "t=shifted_himmelblau, min_losses=[16.99008562 47.06711762 47.06711762]\n",
      "t=shifted_ackley, min_losses=[1.77061516 1.86148837 4.47514355]\n",
      "dict_keys(['rosenbrock', 'branin', 'himmelblau', 'ackley', 'quadratic2d', 'quadratic2d_10', 'shifted_rosenbrock', 'shifted_branin', 'shifted_himmelblau', 'shifted_ackley'])\n"
     ]
    }
   ],
   "source": [
    "trajectories, losses, messages = load_results(\"gpt4_prompt2\")\n",
    "print(trajectories.keys())"
   ]
  },
  {
   "cell_type": "code",
   "execution_count": 13,
   "metadata": {},
   "outputs": [
    {
     "data": {
      "text/plain": [
       "[[0, 0],\n",
       " [-5, 15],\n",
       " [-5, 15],\n",
       " [0, 10],\n",
       " [-5, 15],\n",
       " [-5, 15],\n",
       " [10, 0],\n",
       " [10, 5],\n",
       " [10, 10],\n",
       " [10, 3]]"
      ]
     },
     "execution_count": 13,
     "metadata": {},
     "output_type": "execute_result"
    }
   ],
   "source": [
    "trajectories[\"branin\"][0]"
   ]
  },
  {
   "cell_type": "code",
   "execution_count": 14,
   "metadata": {},
   "outputs": [
    {
     "data": {
      "text/plain": [
       "[{'role': 'system', 'content': 'You are a machine learning expert.'},\n",
       " {'role': 'user',\n",
       "  'content': 'You are helping tune hyperparameters to minimize loss. x1 must be in range (-5, 10). x2 must be in range (0, 15). I want you to predict values that minimize the loss of the function; I will tell you the value of the function before you try again. Do not put new lines or extra characters in your response. We have a total of 10 evaluations. Format your output with json as follows: {\"x\": [x1, x2]}\\n'},\n",
       " {'role': 'assistant', 'content': '{\"x\": [0, 0]}'},\n",
       " {'role': 'user',\n",
       "  'content': 'Loss: 5.560e+01. Format your next output as before.'},\n",
       " {'role': 'assistant', 'content': '{\"x\": [-5, 15]}'},\n",
       " {'role': 'user',\n",
       "  'content': 'Loss: 1.751e+01. Write two lines as follows:\\nAnalysis:(up to a few sentences describing what worked so far and what to choose next)\\nOutput:{json dict}'},\n",
       " {'role': 'assistant',\n",
       "  'content': 'Analysis: The loss decreased significantly when x1 was at its minimum and x2 was at its maximum. This suggests that the function may be minimized when x1 is less and x2 is more. Let\\'s try to decrease x1 further and increase x2 further within their respective ranges.\\n\\nOutput: {\"x\": [-5, 15]}'},\n",
       " {'role': 'user',\n",
       "  'content': 'Loss: 1.751e+01. Write two lines as follows:\\nAnalysis:(up to a few sentences describing what worked so far and what to choose next)\\nOutput:{json dict}'},\n",
       " {'role': 'assistant',\n",
       "  'content': 'Analysis: The loss remained the same, indicating that we might have reached the optimal values for x1 and x2. However, to confirm this, let\\'s try a different combination by increasing x1 and decreasing x2.\\n\\nOutput: {\"x\": [0, 10]}'},\n",
       " {'role': 'user',\n",
       "  'content': 'Loss: 3.560e+01. Write two lines as follows:\\nAnalysis:(up to a few sentences describing what worked so far and what to choose next)\\nOutput:{json dict}'},\n",
       " {'role': 'assistant',\n",
       "  'content': 'Analysis: The loss increased when we increased x1 and decreased x2. This suggests that the function is indeed minimized when x1 is less and x2 is more. Let\\'s revert back to the previous values to confirm this.\\n\\nOutput: {\"x\": [-5, 15]}'},\n",
       " {'role': 'user',\n",
       "  'content': 'Loss: 1.751e+01. Write two lines as follows:\\nAnalysis:(up to a few sentences describing what worked so far and what to choose next)\\nOutput:{json dict}'},\n",
       " {'role': 'assistant',\n",
       "  'content': 'Analysis: The loss remained the same, confirming our hypothesis that the function is minimized when x1 is at its minimum and x2 is at its maximum. Let\\'s keep these values as they seem to provide the lowest loss.\\n\\nOutput: {\"x\": [-5, 15]}'},\n",
       " {'role': 'user',\n",
       "  'content': 'Loss: 1.751e+01. Write two lines as follows:\\nAnalysis:(up to a few sentences describing what worked so far and what to choose next)\\nOutput:{json dict}'},\n",
       " {'role': 'assistant',\n",
       "  'content': 'Analysis: The loss is consistent at 1.751e+01 when x1 is -5 and x2 is 15. This suggests that we have found the optimal values for x1 and x2. However, to ensure we are not stuck in a local minimum, let\\'s try a different combination.\\n\\nOutput: {\"x\": [10, 0]}'},\n",
       " {'role': 'user',\n",
       "  'content': 'Loss: 1.096e+01. Write two lines as follows:\\nAnalysis:(up to a few sentences describing what worked so far and what to choose next)\\nOutput:{json dict}'},\n",
       " {'role': 'assistant',\n",
       "  'content': 'Analysis: Surprisingly, the loss decreased when we set x1 to its maximum and x2 to its minimum. This suggests that the function might have multiple minima. Let\\'s continue exploring this direction by keeping x1 at its maximum and increasing x2 slightly.\\n\\nOutput: {\"x\": [10, 5]}'},\n",
       " {'role': 'user',\n",
       "  'content': 'Loss: 5.931e+00. Write two lines as follows:\\nAnalysis:(up to a few sentences describing what worked so far and what to choose next)\\nOutput:{json dict}'},\n",
       " {'role': 'assistant',\n",
       "  'content': 'Analysis: The loss decreased further when we increased x2 while keeping x1 at its maximum. This suggests that the function might be minimized when x1 is high and x2 is somewhere in the middle of its range. Let\\'s continue to increase x2.\\n\\nOutput: {\"x\": [10, 10]}'},\n",
       " {'role': 'user',\n",
       "  'content': 'Loss: 5.090e+01. Write two lines as follows:\\nAnalysis:(up to a few sentences describing what worked so far and what to choose next)\\nOutput:{json dict}'},\n",
       " {'role': 'assistant',\n",
       "  'content': 'Analysis: The loss increased significantly when we increased x2 further while keeping x1 at its maximum. This suggests that the function might be minimized when x1 is high and x2 is lower. Let\\'s decrease x2 slightly.\\n\\nOutput: {\"x\": [10, 3]}'}]"
      ]
     },
     "execution_count": 14,
     "metadata": {},
     "output_type": "execute_result"
    }
   ],
   "source": [
    "messages[\"branin\"][0]"
   ]
  },
  {
   "cell_type": "code",
   "execution_count": null,
   "metadata": {},
   "outputs": [],
   "source": []
  }
 ],
 "metadata": {
  "kernelspec": {
   "display_name": "llm_hpo",
   "language": "python",
   "name": "llm-hpo"
  },
  "language_info": {
   "codemirror_mode": {
    "name": "ipython",
    "version": 3
   },
   "file_extension": ".py",
   "mimetype": "text/x-python",
   "name": "python",
   "nbconvert_exporter": "python",
   "pygments_lexer": "ipython3",
   "version": "3.9.12"
  }
 },
 "nbformat": 4,
 "nbformat_minor": 2
}
